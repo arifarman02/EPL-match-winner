{
 "cells": [
  {
   "cell_type": "code",
   "execution_count": null,
   "id": "672fcd6d",
   "metadata": {},
   "outputs": [],
   "source": [
    "import requests\n",
    "import pandas as pd\n",
    "import time\n",
    "from typing import Dict, List, Optional"
   ]
  },
  {
   "cell_type": "code",
   "execution_count": null,
   "id": "f50770fb",
   "metadata": {},
   "outputs": [],
   "source": [
    "class Scraper:\n",
    "    def __init__(self):\n",
    "        self.base_url = \"https://fbrapi.com\"\n",
    "        self.api_key = None\n",
    "        self.premier_league_id = 9\n",
    "\n",
    "    def generate_api_key(self) -> str:\n",
    "        try:\n",
    "            response = requests.post(f\"{self.base_url}/generate_api_key\")\n",
    "            response.raise_for_status()\n",
    "            api_key = response.json()['api_key']\n",
    "            self.api_key = api_key\n",
    "            print(f\"API Key generated successfully: {api_key}\")\n",
    "            return api_key\n",
    "        except requests.exceptions.RequestException as e:\n",
    "            print(f\"Error generating API key: {e}\")\n",
    "            return None"
   ]
  }
 ],
 "metadata": {
  "kernelspec": {
   "display_name": "Python 3",
   "language": "python",
   "name": "python3"
  },
  "language_info": {
   "name": "python",
   "version": "3.13.3"
  }
 },
 "nbformat": 4,
 "nbformat_minor": 5
}
